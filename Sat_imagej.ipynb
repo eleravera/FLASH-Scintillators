{
 "cells": [
  {
   "cell_type": "markdown",
   "id": "7ea6ee38",
   "metadata": {},
   "source": [
    "# Curva di saturazione con i dati ricavati tramite imagej"
   ]
  },
  {
   "cell_type": "code",
   "execution_count": 1,
   "id": "c87df8fd",
   "metadata": {},
   "outputs": [],
   "source": [
    "import pandas as pd\n",
    "import csv\n",
    "import matplotlib.pyplot as plt\n",
    "import matplotlib.mlab as mlab\n",
    "import numpy as np\n",
    "import scipy\n",
    "from numpy import loadtxt\n",
    "from scipy.optimize import curve_fit\n",
    "import cv2"
   ]
  },
  {
   "cell_type": "code",
   "execution_count": 2,
   "id": "75d234c5",
   "metadata": {},
   "outputs": [],
   "source": [
    "def lin (x,q,m):\n",
    "    return q*x+m\n"
   ]
  },
  {
   "cell_type": "markdown",
   "id": "b36271d9",
   "metadata": {},
   "source": [
    "# Buio"
   ]
  },
  {
   "cell_type": "code",
   "execution_count": 3,
   "id": "7ac8350f",
   "metadata": {},
   "outputs": [
    {
     "name": "stdout",
     "output_type": "stream",
     "text": [
      "2106.814\n"
     ]
    }
   ],
   "source": [
    "pathD=open('/home/andrea/Desktop/2022_11_03_flash_1mm/sat/Data/Buio.csv')\n",
    "\n",
    "Dark=(np.loadtxt(pathD, delimiter='\\t', dtype='float', skiprows=1))\n",
    "\n",
    "print(Dark[:,2][0])"
   ]
  },
  {
   "cell_type": "markdown",
   "id": "3d3979f6",
   "metadata": {},
   "source": [
    "# Dosi"
   ]
  },
  {
   "cell_type": "code",
   "execution_count": 4,
   "id": "90f996ec",
   "metadata": {},
   "outputs": [
    {
     "name": "stdout",
     "output_type": "stream",
     "text": [
      "Grey value mean= 1481.5550000000003\n",
      "Dev st= 889.8056666666666\n"
     ]
    }
   ],
   "source": [
    "path07Gy=open('/home/andrea/Desktop/2022_11_03_flash_1mm/sat/Data/07Gy.csv')\n",
    "\n",
    "Gy07=(np.loadtxt(path07Gy, delimiter=',', dtype='float', skiprows=1))\n",
    "\n",
    "M07=np.mean(Gy07[:,2]-Dark[:,2][0])\n",
    "Dev07=np.mean(Gy07[:,3])\n",
    "\n",
    "print('Grey value mean=',M07)\n",
    "print('Dev st=',Dev07)"
   ]
  },
  {
   "cell_type": "code",
   "execution_count": 5,
   "id": "0b230f80",
   "metadata": {},
   "outputs": [
    {
     "name": "stdout",
     "output_type": "stream",
     "text": [
      "Grey value mean= 7416.345333333334\n",
      "Dev st= 4470.824333333333\n"
     ]
    }
   ],
   "source": [
    "path3Gy=open('/home/andrea/Desktop/2022_11_03_flash_1mm/sat/Data/3Gy.csv')\n",
    "\n",
    "Gy3=(np.loadtxt(path3Gy, delimiter=',', dtype='float', skiprows=1))\n",
    "\n",
    "M3=np.mean(Gy3[:,2]-Dark[:,2][1])\n",
    "Dev3=np.mean(Gy3[:,3])\n",
    "\n",
    "print('Grey value mean=',M3)\n",
    "print('Dev st=',Dev3)"
   ]
  },
  {
   "cell_type": "code",
   "execution_count": 6,
   "id": "ecf0a517",
   "metadata": {},
   "outputs": [
    {
     "name": "stdout",
     "output_type": "stream",
     "text": [
      "Grey value mean= 11404.312333333333\n",
      "Dev st= 6867.368333333333\n"
     ]
    }
   ],
   "source": [
    "path6Gy=open('/home/andrea/Desktop/2022_11_03_flash_1mm/sat/Data/6Gy.csv')\n",
    "\n",
    "Gy6=(np.loadtxt(path6Gy, delimiter=',', dtype='float', skiprows=1))\n",
    "\n",
    "M6=np.mean(Gy6[:,2]-Dark[:,2][2])\n",
    "Dev6=np.mean(Gy6[:,3])\n",
    "\n",
    "print('Grey value mean=',M6)\n",
    "print('Dev st=',Dev6)"
   ]
  },
  {
   "cell_type": "code",
   "execution_count": 7,
   "id": "bb0abff3",
   "metadata": {},
   "outputs": [
    {
     "name": "stdout",
     "output_type": "stream",
     "text": [
      "Grey value mean= 17275.345666666664\n",
      "Dev st= 10374.295666666667\n"
     ]
    }
   ],
   "source": [
    "path9Gy=open('/home/andrea/Desktop/2022_11_03_flash_1mm/sat/Data/9Gy.csv')\n",
    "\n",
    "Gy9=(np.loadtxt(path9Gy, delimiter=',', dtype='float', skiprows=1))\n",
    "\n",
    "M9=np.mean(Gy9[:,2]-Dark[:,2][3])\n",
    "Dev9=np.mean(Gy9[:,3])\n",
    "\n",
    "print('Grey value mean=',M9)\n",
    "print('Dev st=',Dev9)"
   ]
  },
  {
   "cell_type": "code",
   "execution_count": 8,
   "id": "40c370e9",
   "metadata": {},
   "outputs": [
    {
     "name": "stdout",
     "output_type": "stream",
     "text": [
      "Grey value mean= 23299.105\n",
      "Dev st= 13917.286333333332\n"
     ]
    }
   ],
   "source": [
    "path12Gy=open('/home/andrea/Desktop/2022_11_03_flash_1mm/sat/Data/12Gy.csv')\n",
    "\n",
    "Gy12=(np.loadtxt(path12Gy, delimiter=',', dtype='float', skiprows=1))\n",
    "\n",
    "M12=np.mean(Gy12[:,2]-Dark[:,2][4])\n",
    "Dev12=np.mean(Gy12[:,3])\n",
    "\n",
    "print('Grey value mean=',M12)\n",
    "print('Dev st=',Dev12)"
   ]
  },
  {
   "cell_type": "code",
   "execution_count": 9,
   "id": "efe859c3",
   "metadata": {},
   "outputs": [
    {
     "name": "stdout",
     "output_type": "stream",
     "text": [
      "Grey value mean= 27183.44266666667\n",
      "Dev st= 16120.643666666665\n"
     ]
    }
   ],
   "source": [
    "path15Gy=open('/home/andrea/Desktop/2022_11_03_flash_1mm/sat/Data/15Gy.csv')\n",
    "\n",
    "Gy15=(np.loadtxt(path15Gy, delimiter=',', dtype='float', skiprows=1))\n",
    "\n",
    "M15=np.mean(Gy15[:,2]-Dark[:,2][5])\n",
    "Dev15=np.mean(Gy15[:,3])\n",
    "\n",
    "print('Grey value mean=',M15)\n",
    "print('Dev st=',Dev15)"
   ]
  },
  {
   "cell_type": "code",
   "execution_count": 10,
   "id": "1b19ec91",
   "metadata": {},
   "outputs": [
    {
     "name": "stdout",
     "output_type": "stream",
     "text": [
      "Grey value mean= 30914.78033333333\n",
      "Dev st= 17906.711333333333\n"
     ]
    }
   ],
   "source": [
    "path18Gy=open('/home/andrea/Desktop/2022_11_03_flash_1mm/sat/Data/18Gy.csv')\n",
    "\n",
    "Gy18=(np.loadtxt(path18Gy, delimiter=',', dtype='float', skiprows=1))\n",
    "\n",
    "M18=np.mean(Gy18[:,2]-Dark[:,2][6])\n",
    "Dev18=np.mean(Gy18[:,3])\n",
    "\n",
    "print('Grey value mean=',M18)\n",
    "print('Dev st=',Dev18)"
   ]
  },
  {
   "cell_type": "code",
   "execution_count": 11,
   "id": "6fd511da",
   "metadata": {},
   "outputs": [
    {
     "name": "stdout",
     "output_type": "stream",
     "text": [
      "Grey value mean= 33720.25033333333\n",
      "Dev st= 19075.467999999997\n"
     ]
    }
   ],
   "source": [
    "path20Gy=open('/home/andrea/Desktop/2022_11_03_flash_1mm/sat/Data/20Gy.csv')\n",
    "\n",
    "Gy20=(np.loadtxt(path20Gy, delimiter=',', dtype='float', skiprows=1))\n",
    "\n",
    "M20=np.mean(Gy20[:,2]-Dark[:,2][7])\n",
    "Dev20=np.mean(Gy20[:,3])\n",
    "\n",
    "print('Grey value mean=',M20)\n",
    "print('Dev st=',Dev20)"
   ]
  },
  {
   "cell_type": "code",
   "execution_count": 12,
   "id": "6eef72e3",
   "metadata": {},
   "outputs": [
    {
     "name": "stdout",
     "output_type": "stream",
     "text": [
      "Grey value mean= 36872.65333333333\n",
      "Dev st= 20171.286333333333\n"
     ]
    }
   ],
   "source": [
    "path23Gy=open('/home/andrea/Desktop/2022_11_03_flash_1mm/sat/Data/23Gy.csv')\n",
    "\n",
    "Gy23=(np.loadtxt(path23Gy, delimiter=',', dtype='float', skiprows=1))\n",
    "\n",
    "M23=np.mean(Gy23[:,2]-Dark[:,2][8])\n",
    "Dev23=np.mean(Gy23[:,3])\n",
    "\n",
    "print('Grey value mean=',M23)\n",
    "print('Dev st=',Dev23)"
   ]
  },
  {
   "cell_type": "markdown",
   "id": "7be15866",
   "metadata": {},
   "source": [
    "# Curva di saturazione"
   ]
  },
  {
   "cell_type": "code",
   "execution_count": 13,
   "id": "14569efa",
   "metadata": {},
   "outputs": [
    {
     "name": "stdout",
     "output_type": "stream",
     "text": [
      "m= 1584.3600781690168 +/- 62.64848360245863\n",
      "q= 2279.6188254998942 +/- 873.2143917515496\n",
      "--------\n",
      "Power_divergenceResult(statistic=1468.7142133906436, pvalue=7.8362243039e-312)\n"
     ]
    },
    {
     "data": {
      "image/png": "[encoded data removed]",
      "text/plain": [
       "<Figure size 640x480 with 1 Axes>"
      ]
     },
     "metadata": {},
     "output_type": "display_data"
    }
   ],
   "source": [
    "D=np.array([0.7,3,6,9,12,15,18,20,23]) #Dosi erogate\n",
    "\n",
    "SatMean=np.array([M07, M3, M6, M9, M12, M15, M18, M20, M23]) #segnali letti dalla CCD\n",
    "DevSt=np.array([Dev07, Dev3, Dev6, Dev9, Dev12, Dev15, Dev18, Dev20, Dev23]) #dev st dei segnali\n",
    "\n",
    "x_cont=np.linspace(0,23,10000)\n",
    "\n",
    "pars_D, cov_D=curve_fit(lin, D, SatMean, p0=[0,0], bounds=(-np.inf,np.inf))\n",
    "p_sigma=np.sqrt(np.diag(cov_D))\n",
    "\n",
    "plt.plot(x_cont, lin(x_cont,*pars_D),'r', label='fit')\n",
    "plt.errorbar(D,SatMean, yerr=1, fmt='b.', label='Punti misurati')\n",
    "\n",
    "plt.xlabel('Dose erogata (Gy)')\n",
    "plt.ylabel('Segnale')\n",
    "\n",
    "plt.legend();\n",
    "\n",
    "#valori attesi\n",
    "Y=pars_D[0]*D+pars_D[1]\n",
    "\n",
    "#scipy.stats.chisquare(SatMean, Y)\n",
    "\n",
    "#parametri della retta di fit\n",
    "print('m=', pars_D[0],'+/-',p_sigma[0]) #coeff angolare\n",
    "print('q=', pars_D[1],'+/-',p_sigma[1]) #intercetta\n",
    "print('--------')\n",
    "print(scipy.stats.chisquare(SatMean, Y))"
   ]
  },
  {
   "cell_type": "code",
   "execution_count": 14,
   "id": "9d5eaf74",
   "metadata": {},
   "outputs": [
    {
     "name": "stdout",
     "output_type": "stream",
     "text": [
      "m= 1865.9949333397458 +/- 86.88259738314653\n",
      "q= 718.1237782671765 +/- 639.0331566615141\n",
      "--------\n",
      "Power_divergenceResult(statistic=363.742677963024, pvalue=1.8898472750026118e-77)\n"
     ]
    },
    {
     "data": {
      "image/png": "[encoded data removed]",
      "text/plain": [
       "<Figure size 640x480 with 1 Axes>"
      ]
     },
     "metadata": {},
     "output_type": "display_data"
    }
   ],
   "source": [
    "D1=np.array([0.7,3,6,9,12]) \n",
    "SatMean1=np.array([M07, M3, M6, M9, M12])\n",
    "\n",
    "\n",
    "pars_D1, cov_D1=curve_fit(lin, D1, SatMean1, p0=[0,0], bounds=(-np.inf,np.inf))\n",
    "p_sigma1=np.sqrt(np.diag(cov_D1))\n",
    "\n",
    "plt.plot(x_cont, lin(x_cont,*pars_D1),'r', label='fit')\n",
    "plt.errorbar(D,SatMean, yerr=1, fmt='b.', label='Punti misurati')\n",
    "\n",
    "plt.xlabel('Dose erogata (Gy)')\n",
    "plt.ylabel('Segnale')\n",
    "\n",
    "plt.legend();\n",
    "\n",
    "#valori attesi\n",
    "Y1=pars_D1[0]*D1+pars_D1[1]\n",
    "\n",
    "\n",
    "#parametri della retta di fit\n",
    "print('m=', pars_D1[0],'+/-',p_sigma1[0]) #coeff angolare\n",
    "print('q=', pars_D1[1],'+/-',p_sigma1[1]) #intercetta\n",
    "print('--------')\n",
    "print(scipy.stats.chisquare(SatMean1, Y1))"
   ]
  },
  {
   "cell_type": "markdown",
   "id": "3e4fe42d",
   "metadata": {},
   "source": [
    "Non ho inserito nel grafico la dev st di imagej perchè troppo grande rispetto ai dati. Il secondo grafico è stato ottenuto fittando solo i primi 5 punti per osservare il discostamento dalla retta."
   ]
  },
  {
   "cell_type": "markdown",
   "id": "19ecc6d2",
   "metadata": {},
   "source": [
    "# - - - - - - - - - - - - - - - - - - - - -"
   ]
  },
  {
   "cell_type": "markdown",
   "id": "68a366ba",
   "metadata": {},
   "source": [
    "# Ora provo a a rifare con i dati direttamente sottratti con imagej pixel a pixel (prima ho usato direttamente le medie calcolate da imagej alle quali ho sottratto il buio)"
   ]
  },
  {
   "cell_type": "code",
   "execution_count": 15,
   "id": "0e1b8843",
   "metadata": {},
   "outputs": [],
   "source": [
    "DataSat=open('/home/andrea/Desktop/2022_11_03_flash_1mm/sat/Data/ResultsComplete.csv')\n",
    "\n",
    "Sat=(np.loadtxt(DataSat, delimiter=',', dtype='float', skiprows=1))\n"
   ]
  },
  {
   "cell_type": "code",
   "execution_count": 16,
   "id": "e1cb58ca",
   "metadata": {},
   "outputs": [
    {
     "name": "stdout",
     "output_type": "stream",
     "text": [
      "[ 1444.048  7228.183 11114.754 16826.985 22690.299 26467.628 30083.751\n",
      " 32797.033 35833.975]\n",
      "[  928.037  4672.568  7179.628 10859.724 14580.973 16906.236 18833.21\n",
      " 20118.308 21362.749]\n"
     ]
    }
   ],
   "source": [
    "D=np.array([0.7,3,6,9,12,15,18,20,23]) #Dosi erogate\n",
    "\n",
    "SatM=np.array([Sat[:,2][0], Sat[:,2][1], Sat[:,2][2], Sat[:,2][3], Sat[:,2][4], Sat[:,2][5], Sat[:,2][6], Sat[:,2][7], Sat[:,2][8]]) #segnali letti dalla CCD\n",
    "Dev_St=np.array([Sat[:,3][0], Sat[:,3][1], Sat[:,3][2], Sat[:,3][3], Sat[:,3][4], Sat[:,3][5], Sat[:,3][6], Sat[:,3][7], Sat[:,3][8]]) #dev st dei segnali\n",
    "\n",
    "print(SatM)\n",
    "print(Dev_St)"
   ]
  },
  {
   "cell_type": "code",
   "execution_count": 17,
   "id": "50f7a8e8",
   "metadata": {},
   "outputs": [
    {
     "name": "stdout",
     "output_type": "stream",
     "text": [
      "m= 1539.9362200829003 +/- 61.66890130299829\n",
      "q= 2241.717917172044 +/- 859.560686662443\n",
      "--------\n",
      "Power_divergenceResult(statistic=1451.8935597866648, pvalue=3.401562112709101e-308)\n"
     ]
    },
    {
     "data": {
      "image/png": "[encoded data removed]",
      "text/plain": [
       "<Figure size 640x480 with 1 Axes>"
      ]
     },
     "metadata": {},
     "output_type": "display_data"
    }
   ],
   "source": [
    "pars_Dj, cov_Dj=curve_fit(lin, D, SatM, p0=[0,0], bounds=(-np.inf,np.inf))\n",
    "p_sigmaj=np.sqrt(np.diag(cov_Dj))\n",
    "\n",
    "plt.plot(x_cont, lin(x_cont,*pars_Dj),'r', label='fit')\n",
    "plt.errorbar(D,SatM, yerr=1, fmt='b.', label='Punti misurati')\n",
    "\n",
    "plt.xlabel('Dose erogata (Gy)')\n",
    "plt.ylabel('Segnale')\n",
    "\n",
    "plt.legend();\n",
    "\n",
    "#valori attesi\n",
    "Y=pars_Dj[0]*D+pars_Dj[1]\n",
    "\n",
    "#scipy.stats.chisquare(SatMean, Y)\n",
    "\n",
    "#parametri della retta di fit\n",
    "print('m=', pars_Dj[0],'+/-',p_sigmaj[0]) #coeff angolare\n",
    "print('q=', pars_Dj[1],'+/-',p_sigmaj[1]) #intercetta\n",
    "print('--------')\n",
    "print(scipy.stats.chisquare(SatM, Y))"
   ]
  },
  {
   "cell_type": "code",
   "execution_count": 18,
   "id": "74c61af7",
   "metadata": {},
   "outputs": [
    {
     "name": "stdout",
     "output_type": "stream",
     "text": [
      "m= 1865.9949333397458 +/- 86.88259738314653\n",
      "q= 718.1237782671765 +/- 639.0331566615141\n",
      "--------\n",
      "Power_divergenceResult(statistic=363.742677963024, pvalue=1.8898472750026118e-77)\n"
     ]
    },
    {
     "data": {
      "image/png": "[encoded data removed]",
      "text/plain": [
       "<Figure size 640x480 with 1 Axes>"
      ]
     },
     "metadata": {},
     "output_type": "display_data"
    }
   ],
   "source": [
    "D1=np.array([0.7,3,6,9,12]) \n",
    "SatM1j=np.array([M07, M3, M6, M9, M12])\n",
    "\n",
    "\n",
    "pars_D1j, cov_D1j=curve_fit(lin, D1, SatM1j, p0=[0,0], bounds=(-np.inf,np.inf))\n",
    "p_sigma1j=np.sqrt(np.diag(cov_D1j))\n",
    "\n",
    "plt.plot(x_cont, lin(x_cont,*pars_D1j),'r', label='fit')\n",
    "plt.errorbar(D,SatM, yerr=1, fmt='b.', label='Punti misurati')\n",
    "\n",
    "plt.xlabel('Dose erogata (Gy)')\n",
    "plt.ylabel('Segnale')\n",
    "\n",
    "plt.legend();\n",
    "\n",
    "#valori attesi\n",
    "Y1=pars_D1j[0]*D1+pars_D1j[1]\n",
    "\n",
    "\n",
    "#parametri della retta di fit\n",
    "print('m=', pars_D1j[0],'+/-',p_sigma1j[0]) #coeff angolare\n",
    "print('q=', pars_D1j[1],'+/-',p_sigma1j[1]) #intercetta\n",
    "print('--------')\n",
    "print(scipy.stats.chisquare(SatM1j, Y1))"
   ]
  },
  {
   "cell_type": "markdown",
   "id": "60f60a6e",
   "metadata": {},
   "source": [
    "# Si ottengono gli stessi risultati"
   ]
  },
  {
   "cell_type": "markdown",
   "id": "8c70d630",
   "metadata": {},
   "source": [
    "Problemi: usando imagej si media su un insiemedi pixel che, a causa della presenza di attack nella fibra, sono più scuri anche se si trovano nell'area in cui c'è segnale. Questo fa si che la deviazione standard che calcola imagej sia elevatissima poichè si trovano valori molto differenti che non si riescono ad escludere dalla roi.\n",
    "Usando invece python anche per analizzare i pixel, si riescono ad eliminare tutti i valori sotto una certa soglia. Questo metodo però ha il problema che la scala di grigi di python è molto più ristretta (circa 500 valori contro 60000 di imagej)."
   ]
  },
  {
   "cell_type": "markdown",
   "id": "853ca324",
   "metadata": {},
   "source": [
    "# - - - - - - - - - - - - - - - - - - - - - - - - - - - - - -"
   ]
  },
  {
   "cell_type": "markdown",
   "id": "88aafa04",
   "metadata": {},
   "source": [
    "# Elimino pixel bui dalla roi:"
   ]
  },
  {
   "cell_type": "markdown",
   "id": "c7d156f6",
   "metadata": {},
   "source": [
    "Per provare ad abbassare il valore di dev st. provo ad eliminare i pixel con luminosità nulla o luminosità mascherata dalla presenza di attack. In questo modo si provano a considerare solo i segnali realmente proporzionali alla luce ricevuta dalla fibra."
   ]
  },
  {
   "cell_type": "code",
   "execution_count": 19,
   "id": "01429dc0",
   "metadata": {},
   "outputs": [],
   "source": [
    "pathHist3Gy=open('/home/andrea/Desktop/2022_11_03_flash_1mm/sat/Data/Hist3Gy.csv')\n",
    "\n",
    "Hist3=(np.loadtxt(pathHist3Gy, delimiter=',', dtype='float', skiprows=1))\n",
    "\n",
    "#print(Hist3[:,1])\n",
    "Hist3=Hist3[(Hist3!=0).all(1)] #Elimino i valori con 0 conteggi\n",
    "A=np.array(Hist3[:,1])\n",
    "B=np.array(Hist3[:,2])\n",
    "\n",
    "#elimino i valori sotto a questa soglia e le corrispondenti classi di frequenza:\n",
    "A1=[]\n",
    "B1=[]\n",
    "i=0\n",
    "for i in range(0, len(A)):\n",
    "    if A[i]>10000: \n",
    "        val=A[i]\n",
    "        freq=B[i]\n",
    "        \n",
    "        A1.append(val)\n",
    "        B1.append(freq)        "
   ]
  },
  {
   "cell_type": "markdown",
   "id": "ba47d4eb",
   "metadata": {},
   "source": [
    "Devo ora pesare i valori per il numerodi volte che compaiono"
   ]
  },
  {
   "cell_type": "code",
   "execution_count": 20,
   "id": "fd641f89",
   "metadata": {},
   "outputs": [
    {
     "name": "stdout",
     "output_type": "stream",
     "text": [
      "23781.690878787886\n",
      "13892.384010620359\n"
     ]
    }
   ],
   "source": [
    "A1=np.array(A1)\n",
    "B1=np.array(B1)\n",
    "Mean3=np.mean(A1*B1)\n",
    "StDv3=np.std(A1*B1)\n",
    "print(Mean3)\n",
    "print(StDv3)"
   ]
  },
  {
   "cell_type": "markdown",
   "id": "116b4e58",
   "metadata": {},
   "source": [
    "Moltiplico i valori dei pixel per le rispettive classi di freq. poi medio per avere il valore medio del segnale letto dalla CCD nella ROI, dopo aver escluso i punti più bui.\n",
    "La deviazione standard rimane comunque molto alta. Si può provare a modificare la soglia ma si rischia di perdere tutti i dati."
   ]
  },
  {
   "cell_type": "markdown",
   "id": "cfbf7788",
   "metadata": {},
   "source": [
    "# N.B"
   ]
  },
  {
   "cell_type": "markdown",
   "id": "7608ad4e",
   "metadata": {},
   "source": [
    "Non ho fatto tutti i file con questo procedimento perchè non so quanto sia conveniente perdere dati (bisogna discuterne). "
   ]
  },
  {
   "cell_type": "code",
   "execution_count": null,
   "id": "98a0d5a1",
   "metadata": {},
   "outputs": [],
   "source": []
  }
 ],
 "metadata": {
  "kernelspec": {
   "display_name": "local-env",
   "language": "python",
   "name": "local-env"
  },
  "language_info": {
   "codemirror_mode": {
    "name": "ipython",
    "version": 3
   },
   "file_extension": ".py",
   "mimetype": "text/x-python",
   "name": "python",
   "nbconvert_exporter": "python",
   "pygments_lexer": "ipython3",
   "version": "3.10.6"
  }
 },
 "nbformat": 4,
 "nbformat_minor": 5
}
