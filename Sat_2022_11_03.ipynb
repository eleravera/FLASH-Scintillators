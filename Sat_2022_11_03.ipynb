{
 "cells": [
  {
   "cell_type": "code",
   "execution_count": 4,
   "id": "b89ac22b",
   "metadata": {},
   "outputs": [],
   "source": [
    "import matplotlib.pyplot as plt\n",
    "import matplotlib.mlab as mlab\n",
    "import numpy as np\n",
    "import scipy\n",
    "from numpy import loadtxt\n",
    "from scipy.optimize import curve_fit\n",
    "import cv2"
   ]
  },
  {
   "cell_type": "code",
   "execution_count": null,
   "id": "dbebd147",
   "metadata": {},
   "outputs": [],
   "source": []
  },
  {
   "cell_type": "markdown",
   "id": "dc011c61",
   "metadata": {},
   "source": [
    "# Studio della curva di saturazione"
   ]
  },
  {
   "cell_type": "markdown",
   "id": "04bc6a39",
   "metadata": {},
   "source": [
    "# Funzioni"
   ]
  },
  {
   "cell_type": "code",
   "execution_count": 5,
   "id": "590b9d91",
   "metadata": {},
   "outputs": [],
   "source": [
    "def lin (x,q,m):\n",
    "    return q*x+m\n"
   ]
  },
  {
   "cell_type": "markdown",
   "id": "599a2358",
   "metadata": {},
   "source": [
    "# Creo la roi \n",
    "uso un' immagine del set \"sat\" e delimito la zona dove è visibile la fibra "
   ]
  },
  {
   "cell_type": "code",
   "execution_count": 7,
   "id": "a76aca20",
   "metadata": {},
   "outputs": [
    {
     "data": {
      "image/png": "[encoded data removed]",
      "text/plain": [
       "<Figure size 640x480 with 1 Axes>"
      ]
     },
     "metadata": {},
     "output_type": "display_data"
    }
   ],
   "source": [
    " I=cv2.imread(\"/home/andrea/Desktop/2022_11_03_flash_1mm/sat/signal/e9MeV_23Gy_1p_4us_1.TIF\")\n",
    "\n",
    "total_row , total_col ,layers = I.shape\n",
    "\n",
    "x,y = np.ogrid [: total_row , :total_col]\n",
    "\n",
    "cen_x, cen_y= 273, 237 #vanno definiti in funzione della posizione della fibra scintillante\n",
    "d= np.sqrt ((x-cen_x)**2 + (y-cen_y)**2)\n",
    "r= 12 #va impostato\n",
    "\n",
    "roi= d>r\n",
    "\n",
    "I[roi]=100\n",
    "#imarray=np.array(I)\n",
    "#imdat=imarray[np.nonzero(I)]\n",
    "\n",
    "\n",
    "plt.imshow(I);\n",
    "plt.show();"
   ]
  },
  {
   "cell_type": "markdown",
   "id": "ee88f998",
   "metadata": {},
   "source": [
    "# Buio"
   ]
  },
  {
   "cell_type": "code",
   "execution_count": 22,
   "id": "885812de",
   "metadata": {},
   "outputs": [],
   "source": [
    "Dark=[]\n",
    "for i in range (1,10):\n",
    "    imD=cv2.imread(\"/home/andrea/Desktop/2022_11_03_flash_1mm/sat/buio_{num:d}.TIF\".format(num=i))\n",
    "    \n",
    "    B=imD\n",
    "    Dark.append(B)"
   ]
  },
  {
   "cell_type": "markdown",
   "id": "8f076e91",
   "metadata": {},
   "source": [
    "NB l'indice del dark è uguale al numero di buio nei file meno 1"
   ]
  },
  {
   "cell_type": "markdown",
   "id": "9d25e49c",
   "metadata": {},
   "source": [
    "# Segnali\n",
    "\n",
    "Le dosi usate sono 0.7, 3, 6 ,9, 12, 15,18, 20, 23 Gy \n",
    "\n",
    "N.B. in queste misure ho fatto la deviazione standard dalla media dei 3file usati e NON la deviazione standard dalla media del segnale. Infatti si osservacome in questo caso siano molto più basse mentre la dev.st rispetto al segnale medio è molto alta (vedi file sat_imagej)."
   ]
  },
  {
   "cell_type": "code",
   "execution_count": 36,
   "id": "1b96d68f",
   "metadata": {},
   "outputs": [
    {
     "name": "stdout",
     "output_type": "stream",
     "text": [
      "mean 0.7Gy: 5.705582706766918\n",
      "dev std: 3.253189780815131\n"
     ]
    }
   ],
   "source": [
    "G70c=[]\n",
    "for i in range (1,4):\n",
    "    im70=cv2.imread(\"/home/andrea/Desktop/2022_11_03_flash_1mm/sat/signal/e9MeV_70cGy_1p_4us_{num:d}.TIF\".format(num=i))\n",
    "    \n",
    "    A=im70-Dark[0] #sottraggo il buio all'immagine\n",
    "    \n",
    "    A[roi]=0\n",
    "    \n",
    "    imdat70=np.array(A)[np.nonzero(np.array(A))]\n",
    "    \n",
    "    Gy70c=np.mean(imdat70)\n",
    "    G70c.append(Gy70c)\n",
    "    \n",
    "M70=np.mean(G70c) #medio sulle tre immagini alle quali è stata applicata la roi\n",
    "St70=np.std(G70c)\n",
    "\n",
    "print('mean 0.7Gy:', M70)\n",
    "print('dev std:', St70)   "
   ]
  },
  {
   "cell_type": "code",
   "execution_count": 24,
   "id": "f66dba80",
   "metadata": {},
   "outputs": [
    {
     "name": "stdout",
     "output_type": "stream",
     "text": [
      "mean 3Gy: 27.153030303030302\n",
      "dev std: 0.04333439286689467\n"
     ]
    }
   ],
   "source": [
    "G300c=[]\n",
    "for i in range (1,4):\n",
    "    im300=cv2.imread(\"/home/andrea/Desktop/2022_11_03_flash_1mm/sat/signal/e9MeV_300cGy_1p_4us_{num:d}.TIF\".format(num=i))\n",
    "    \n",
    "    A=im300-Dark[1] #sottraggo il buio all'immagine\n",
    "    \n",
    "    A[roi]=0\n",
    "    \n",
    "    imdat300=np.array(A)[np.nonzero(np.array(A))]\n",
    "    \n",
    "    Gy300c=np.mean(imdat300)\n",
    "    G300c.append(Gy300c)\n",
    "\n",
    "M300=np.mean(G300c)\n",
    "St300=np.std(G300c)\n",
    "\n",
    "print('mean 3Gy:', M300)\n",
    "print('dev std:', St300)"
   ]
  },
  {
   "cell_type": "code",
   "execution_count": 25,
   "id": "763b7074",
   "metadata": {},
   "outputs": [
    {
     "name": "stdout",
     "output_type": "stream",
     "text": [
      "mean 6Gy: 41.81632653061225\n",
      "dev std: 0.09906641680646272\n"
     ]
    }
   ],
   "source": [
    "G600c=[]\n",
    "for i in range (1,4):\n",
    "    im600=cv2.imread(\"/home/andrea/Desktop/2022_11_03_flash_1mm/sat/signal/e9MeV_600cGy_1p_4us_{num:d}.TIF\".format(num=i))\n",
    "    \n",
    "    A=im600-Dark[2] #sottraggo il buio all'immagine\n",
    "    \n",
    "    A[roi]=0\n",
    "    \n",
    "    imdat600=np.array(A)[np.nonzero(np.array(A))]\n",
    "    \n",
    "    Gy600c=np.mean(imdat600)\n",
    "    G600c.append(Gy600c)\n",
    "    \n",
    "M600=np.mean(G600c)\n",
    "St600=np.std(G600c)\n",
    "\n",
    "print('mean 6Gy:', M600)\n",
    "print('dev std:', St600) "
   ]
  },
  {
   "cell_type": "code",
   "execution_count": 26,
   "id": "87d4b51c",
   "metadata": {},
   "outputs": [
    {
     "name": "stdout",
     "output_type": "stream",
     "text": [
      "mean 9Gy: 63.44595616024188\n",
      "dev std: 0.13383594847402333\n"
     ]
    }
   ],
   "source": [
    "G9=[]\n",
    "for i in range (1,4):\n",
    "    im9=cv2.imread(\"/home/andrea/Desktop/2022_11_03_flash_1mm/sat/signal/e9MeV_9Gy_1p_4us_{num:d}.TIF\".format(num=i))\n",
    "    \n",
    "    A=im9-Dark[3] #sottraggo il buio all'immagine\n",
    "    \n",
    "    A[roi]=0\n",
    "    \n",
    "    imdat9=np.array(A)[np.nonzero(np.array(A))]\n",
    "    \n",
    "    Gy9=np.mean(imdat9)\n",
    "    G9.append(Gy9)\n",
    "    \n",
    "M9=np.mean(G9)\n",
    "St9=np.std(G9)\n",
    "\n",
    "print('mean 9Gy:', M9)\n",
    "print('dev std:', St9)  "
   ]
  },
  {
   "cell_type": "code",
   "execution_count": 27,
   "id": "21c7e46c",
   "metadata": {},
   "outputs": [
    {
     "name": "stdout",
     "output_type": "stream",
     "text": [
      "mean 12Gy: 85.65003779289493\n",
      "dev std: 0.1488713893165267\n"
     ]
    }
   ],
   "source": [
    "G12=[]\n",
    "for i in range (1,4):\n",
    "    im12=cv2.imread(\"/home/andrea/Desktop/2022_11_03_flash_1mm/sat/signal/e9MeV_12Gy_1p_4us_{num:d}.TIF\".format(num=i))\n",
    "    \n",
    "    A=im12-Dark[4] #sottraggo il buio all'immagine\n",
    "    \n",
    "    A[roi]=0\n",
    "    \n",
    "    imdat12=np.array(A)[np.nonzero(np.array(A))]\n",
    "    \n",
    "    Gy12=np.mean(imdat12)\n",
    "    G12.append(Gy12)\n",
    "    \n",
    "M12=np.mean(G12)\n",
    "St12=np.std(G12)\n",
    "\n",
    "print('mean 12Gy:', M12)\n",
    "print('dev std:', St12)   "
   ]
  },
  {
   "cell_type": "code",
   "execution_count": 28,
   "id": "f0ff28bb",
   "metadata": {},
   "outputs": [
    {
     "name": "stdout",
     "output_type": "stream",
     "text": [
      "mean 15Gy: 99.94179894179894\n",
      "dev std: 1.5837010598366539\n"
     ]
    }
   ],
   "source": [
    "G15=[]\n",
    "for i in range (1,4):\n",
    "    im15=cv2.imread(\"/home/andrea/Desktop/2022_11_03_flash_1mm/sat/signal/e9MeV_15Gy_1p_4us_{num:d}.TIF\".format(num=i))\n",
    "    \n",
    "    A=im15-Dark[5] #sottraggo il buio all'immagine\n",
    "    \n",
    "    A[roi]=0\n",
    "    \n",
    "    imdat15=np.array(A)[np.nonzero(np.array(A))]\n",
    "    \n",
    "    Gy15=np.mean(imdat15)\n",
    "    G15.append(Gy15)\n",
    "    \n",
    "M15=np.mean(G15)\n",
    "St15=np.std(G15)\n",
    "\n",
    "print('mean 15Gy:', M15)\n",
    "print('dev std:', St15)   "
   ]
  },
  {
   "cell_type": "code",
   "execution_count": 29,
   "id": "f15fa5ee",
   "metadata": {},
   "outputs": [
    {
     "name": "stdout",
     "output_type": "stream",
     "text": [
      "mean 18Gy: 113.79591836734694\n",
      "dev std: 0.2272179751255793\n"
     ]
    }
   ],
   "source": [
    "G18=[]\n",
    "for i in range (1,4):\n",
    "    im18=cv2.imread(\"/home/andrea/Desktop/2022_11_03_flash_1mm/sat/signal/e9MeV_18Gy_1p_4us_{num:d}.TIF\".format(num=i))\n",
    "    \n",
    "    A=im18-Dark[6] #sottraggo il buio all'immagine\n",
    "    \n",
    "    A[roi]=0\n",
    "    \n",
    "    imdat18=np.array(A)[np.nonzero(np.array(A))]\n",
    "    \n",
    "    Gy18=np.mean(imdat18)\n",
    "    G18.append(Gy18)\n",
    "    \n",
    "M18=np.mean(G18)\n",
    "St18=np.std(G18)\n",
    "\n",
    "print('mean 18Gy:', M18)\n",
    "print('dev std:', St18) "
   ]
  },
  {
   "cell_type": "code",
   "execution_count": 30,
   "id": "84c917c3",
   "metadata": {},
   "outputs": [
    {
     "name": "stdout",
     "output_type": "stream",
     "text": [
      "mean 20Gy: 124.2509448223734\n",
      "dev std: 0.043433886314615436\n"
     ]
    }
   ],
   "source": [
    "G20=[]\n",
    "for i in range (1,4):\n",
    "    im20=cv2.imread(\"/home/andrea/Desktop/2022_11_03_flash_1mm/sat/signal/e9MeV_20Gy_1p_4us_{num:d}.TIF\".format(num=i))\n",
    "    \n",
    "    A=im20-Dark[7] #sottraggo il buio all'immagine\n",
    "    \n",
    "    A[roi]=0\n",
    "    \n",
    "    imdat20=np.array(A)[np.nonzero(np.array(A))]\n",
    "    \n",
    "    Gy20=np.mean(imdat20)\n",
    "    G20.append(Gy20)\n",
    "    \n",
    "M20=np.mean(G20)\n",
    "St20=np.std(G20)\n",
    "\n",
    "print('mean 20Gy:', M20)\n",
    "print('dev std:', St20) "
   ]
  },
  {
   "cell_type": "code",
   "execution_count": 31,
   "id": "f845fe47",
   "metadata": {},
   "outputs": [
    {
     "name": "stdout",
     "output_type": "stream",
     "text": [
      "mean 23Gy: 136.0914588057445\n",
      "dev std: 0.07002198384290408\n"
     ]
    }
   ],
   "source": [
    "G23=[]\n",
    "for i in range (1,4):\n",
    "    im23=cv2.imread(\"/home/andrea/Desktop/2022_11_03_flash_1mm/sat/signal/e9MeV_23Gy_1p_4us_{num:d}.TIF\".format(num=i))\n",
    "    \n",
    "    A=im23-Dark[8] #sottraggo il buio all'immagine\n",
    "    \n",
    "    A[roi]=0\n",
    "    \n",
    "    imdat23=np.array(A)[np.nonzero(np.array(A))]\n",
    "    \n",
    "    Gy23=np.mean(imdat23)\n",
    "    G23.append(Gy23)\n",
    "    \n",
    "M23=np.mean(G23)\n",
    "St23=np.std(G23)\n",
    "\n",
    "print('mean 23Gy:', M23)\n",
    "print('dev std:', St23) "
   ]
  },
  {
   "cell_type": "code",
   "execution_count": 32,
   "id": "e1aa4a6d",
   "metadata": {},
   "outputs": [],
   "source": [
    "D=np.array([0.7,3,6,9,12,15,18,20,23]) #Dosi erogate\n",
    "\n",
    "SatMean=np.array([M70, M300, M600, M9, M12, M15, M18, M20, M23]) #segnali letti dalla CCD\n",
    "DevSt=np.array([St70, St300, St600, St9, St12, St15, St18, St20, St23]) #dev st dei segnali"
   ]
  },
  {
   "cell_type": "markdown",
   "id": "9a45747c",
   "metadata": {},
   "source": [
    "# Curva di saturazione"
   ]
  },
  {
   "cell_type": "code",
   "execution_count": 33,
   "id": "75f33866",
   "metadata": {},
   "outputs": [
    {
     "name": "stdout",
     "output_type": "stream",
     "text": [
      "m= 5.8413982280509575 +/- 0.22287043716986618\n",
      "q= 8.285984938129515 +/- 3.106438639351279\n",
      "--------\n",
      "Power_divergenceResult(statistic=4.978586658572402, pvalue=0.7598623536925511)\n"
     ]
    },
    {
     "data": {
      "image/png": "[encoded data removed]",
      "text/plain": [
       "<Figure size 640x480 with 1 Axes>"
      ]
     },
     "metadata": {},
     "output_type": "display_data"
    }
   ],
   "source": [
    "x_cont=np.linspace(0,23,10000)\n",
    "\n",
    "pars_D, cov_D=curve_fit(lin, D, SatMean, p0=[0,0], bounds=(-np.inf,np.inf))\n",
    "p_sigma=np.sqrt(np.diag(cov_D))\n",
    "\n",
    "plt.plot(x_cont, lin(x_cont,*pars_D),'r', label='fit')\n",
    "plt.errorbar(D,SatMean, yerr=DevSt, fmt='b.', label='Punti misurati')\n",
    "\n",
    "plt.xlabel('Dose erogata (Gy)')\n",
    "plt.ylabel('Segnale')\n",
    "\n",
    "plt.legend();\n",
    "\n",
    "#valori attesi\n",
    "Y=pars_D[0]*D+pars_D[1]\n",
    "\n",
    "#scipy.stats.chisquare(SatMean, Y)\n",
    "\n",
    "#parametri della retta di fit\n",
    "print('m=', pars_D[0],'+/-',p_sigma[0]) #coeff angolare\n",
    "print('q=', pars_D[1],'+/-',p_sigma[1]) #intercetta\n",
    "print('--------')\n",
    "print(scipy.stats.chisquare(SatMean, Y))"
   ]
  },
  {
   "cell_type": "markdown",
   "id": "28cc4d11",
   "metadata": {},
   "source": [
    "Il p-value superiore 0.5 \n",
    "\n",
    "\n",
    "\n",
    "Ora provo a fittare con una retta solo i primi 5 punti per vedere come si discostano i rimanenti"
   ]
  },
  {
   "cell_type": "code",
   "execution_count": 34,
   "id": "1d70a9e8",
   "metadata": {},
   "outputs": [
    {
     "name": "stdout",
     "output_type": "stream",
     "text": [
      "m= 6.84471025656832 +/- 0.31071890790485107\n",
      "q= 2.7276656857637755 +/- 2.285379327838862\n",
      "--------\n",
      "Power_divergenceResult(statistic=1.1971727672585062, pvalue=0.8785638835171352)\n"
     ]
    },
    {
     "data": {
      "image/png": "[encoded data removed]",
      "text/plain": [
       "<Figure size 640x480 with 1 Axes>"
      ]
     },
     "metadata": {},
     "output_type": "display_data"
    }
   ],
   "source": [
    "D1=np.array([0.7,3,6,9,12]) \n",
    "SatMean1=np.array([M70, M300, M600, M9, M12])\n",
    "\n",
    "\n",
    "pars_D1, cov_D1=curve_fit(lin, D1, SatMean1, p0=[0,0], bounds=(-np.inf,np.inf))\n",
    "p_sigma1=np.sqrt(np.diag(cov_D1))\n",
    "\n",
    "plt.plot(x_cont, lin(x_cont,*pars_D1),'r', label='fit')\n",
    "plt.errorbar(D,SatMean, yerr=St23, fmt='b.', label='Punti misurati')\n",
    "\n",
    "plt.xlabel('Dose erogata (Gy)')\n",
    "plt.ylabel('Segnale')\n",
    "\n",
    "plt.legend();\n",
    "\n",
    "#valori attesi\n",
    "Y1=pars_D1[0]*D1+pars_D1[1]\n",
    "\n",
    "\n",
    "#parametri della retta di fit\n",
    "print('m=', pars_D1[0],'+/-',p_sigma1[0]) #coeff angolare\n",
    "print('q=', pars_D1[1],'+/-',p_sigma1[1]) #intercetta\n",
    "print('--------')\n",
    "print(scipy.stats.chisquare(SatMean1, Y1))"
   ]
  },
  {
   "cell_type": "code",
   "execution_count": null,
   "id": "863a8e24",
   "metadata": {},
   "outputs": [],
   "source": []
  },
  {
   "cell_type": "code",
   "execution_count": null,
   "id": "de341c72",
   "metadata": {},
   "outputs": [],
   "source": []
  }
 ],
 "metadata": {
  "kernelspec": {
   "display_name": "Python 3 (ipykernel)",
   "language": "python",
   "name": "python3"
  },
  "language_info": {
   "codemirror_mode": {
    "name": "ipython",
    "version": 3
   },
   "file_extension": ".py",
   "mimetype": "text/x-python",
   "name": "python",
   "nbconvert_exporter": "python",
   "pygments_lexer": "ipython3",
   "version": "3.10.6"
  }
 },
 "nbformat": 4,
 "nbformat_minor": 5
}
